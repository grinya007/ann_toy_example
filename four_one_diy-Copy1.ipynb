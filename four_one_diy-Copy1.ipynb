{
 "cells": [
  {
   "cell_type": "code",
   "execution_count": 40,
   "metadata": {},
   "outputs": [],
   "source": [
    "import numpy as np\n",
    "from sklearn import preprocessing"
   ]
  },
  {
   "cell_type": "code",
   "execution_count": 63,
   "metadata": {},
   "outputs": [
    {
     "name": "stdout",
     "output_type": "stream",
     "text": [
      "[[0.07974522 0.63796178 0.59808917 0.47847133]\n",
      " [0.17457431 0.61101009 0.52372294 0.56736651]\n",
      " [0.6144763  0.19202384 0.7296906  0.23042861]\n",
      " [0.61186276 0.2447451  0.57107191 0.48949021]\n",
      " [0.61288338 0.20429446 0.20429446 0.73546006]\n",
      " [0.39181389 0.39181389 0.62037199 0.55506968]\n",
      " [0.08830216 0.57396402 0.52981294 0.6181151 ]\n",
      " [0.11009638 0.16514456 0.60553007 0.77067464]]\n",
      "[[0.07974522]\n",
      " [0.17457431]\n",
      " [0.6144763 ]\n",
      " [0.61186276]\n",
      " [0.61288338]\n",
      " [0.39181389]\n",
      " [0.08830216]\n",
      " [0.11009638]]\n"
     ]
    }
   ],
   "source": [
    "set_size = 10240\n",
    "sample_size = 4\n",
    "\n",
    "range_x = (2, 20)\n",
    "x_train = np.random.randint(range_x[0], range_x[1], size=(set_size, sample_size))\n",
    "x_train = preprocessing.normalize(x_train)\n",
    "y_train = x_train[:, :1]\n",
    "\n",
    "print(x_train[:8])\n",
    "print(y_train[:8])"
   ]
  },
  {
   "cell_type": "code",
   "execution_count": 64,
   "metadata": {},
   "outputs": [
    {
     "data": {
      "text/plain": [
       "[[ 1.29873  0.62113  0.07035 -0.45316]] [[0.45118]]"
      ]
     },
     "execution_count": 64,
     "metadata": {},
     "output_type": "execute_result"
    }
   ],
   "source": [
    "def sigmoid(x):\n",
    "    return 1/(1 + np.exp(-x))\n",
    "\n",
    "def dsigmoid(x):\n",
    "    return sigmoid(x)*(1 - sigmoid(x))\n",
    "\n",
    "def mse1(y, truth):\n",
    "    return (y - truth)**2\n",
    "\n",
    "def dmse1(y, truth):\n",
    "    return 2*(y - truth)\n",
    "\n",
    "\n",
    "class Model():\n",
    "    def __init__(self, input_size):\n",
    "        self.input_size = input_size\n",
    "        self.W = np.random.randn(1, input_size)\n",
    "        self.b = np.random.randn(1, 1)\n",
    "\n",
    "    def __repr__(self):\n",
    "        return '{} {}'.format(\n",
    "            str(np.around(self.W, decimals = 5)),\n",
    "            str(np.around(self.b, decimals = 5))\n",
    "        )\n",
    "\n",
    "    def predict(self, x):\n",
    "        return sigmoid(np.dot(self.W, x) + self.b)\n",
    "\n",
    "    def fit(self, x_input, y_input, epochs=10, lr=1):\n",
    "        for e in range(epochs):\n",
    "            loss = []\n",
    "            for i in range(x_input.shape[0]):\n",
    "                inp = x_input[i].reshape(self.input_size, 1)\n",
    "                prediction = self.predict(inp)\n",
    "            \n",
    "                cost = mse1(prediction, y_input[i])\n",
    "                loss.append(cost)\n",
    "            \n",
    "                dcost = dmse1(prediction, y_input[i])\n",
    "                dprediction = dsigmoid(prediction)\n",
    "                dW = inp.T\n",
    "                self.W -= lr * dW * dprediction * dcost\n",
    "                self.b -= lr * dprediction * dcost\n",
    "            print('{}/{} Loss: {:.5f}'.format(e + 1, epochs, np.average(loss)))\n",
    "\n",
    "\n",
    "model = Model(input_size = sample_size)\n",
    "model"
   ]
  },
  {
   "cell_type": "code",
   "execution_count": 65,
   "metadata": {},
   "outputs": [
    {
     "name": "stdout",
     "output_type": "stream",
     "text": [
      "1/10 Loss: 0.00070\n",
      "2/10 Loss: 0.00027\n",
      "3/10 Loss: 0.00026\n",
      "4/10 Loss: 0.00026\n",
      "5/10 Loss: 0.00026\n",
      "6/10 Loss: 0.00026\n",
      "7/10 Loss: 0.00026\n",
      "8/10 Loss: 0.00026\n",
      "9/10 Loss: 0.00026\n",
      "10/10 Loss: 0.00026\n"
     ]
    }
   ],
   "source": [
    "model.fit(x_train, y_train, epochs=10)"
   ]
  },
  {
   "cell_type": "code",
   "execution_count": 66,
   "metadata": {},
   "outputs": [
    {
     "name": "stdout",
     "output_type": "stream",
     "text": [
      "[0.51261459 0.34174306 0.76892189 0.17087153] 0.50833 0.00002\n",
      "[0.29528539 0.5536601  0.66439212 0.40601741] 0.27896 0.00027\n",
      "[0.54772256 0.79115481 0.12171612 0.24343225] 0.54857 0.00000\n",
      "[0.65870958 0.12350805 0.61754023 0.41169348] 0.66996 0.00013\n",
      "[0.22423053 0.67269158 0.59794807 0.37371755] 0.21763 0.00004\n",
      "[0.58309519 0.48019604 0.44589632 0.48019604] 0.59395 0.00012\n",
      "[0.72101012 0.36050506 0.54075759 0.24033671] 0.73086 0.00010\n",
      "[0.36147845 0.72295689 0.56803756 0.15491933] 0.34162 0.00039\n",
      "[0.32816506 0.79697229 0.42192651 0.28128434] 0.30906 0.00037\n",
      "[0.36835473 0.44202568 0.47886115 0.66303852] 0.35252 0.00025\n",
      "[0.25979437 0.63092918 0.29690785 0.66804266] 0.24740 0.00015\n",
      "[0.3796283  0.3796283  0.59655876 0.59655876] 0.36400 0.00024\n",
      "[0.53381684 0.41519088 0.56347333 0.47450386] 0.53804 0.00002\n",
      "[0.83550442 0.24573659 0.29488391 0.39317855] 0.82043 0.00023\n",
      "[0.33218192 0.33218192 0.66436384 0.58131836] 0.31418 0.00032\n",
      "[0.44694921 0.55009133 0.48132991 0.51571062] 0.43928 0.00006\n",
      "[0.43895128 0.83400743 0.13168538 0.3072659 ] 0.42477 0.00020\n",
      "[0.28074496 0.63167617 0.63167617 0.3509312 ] 0.26534 0.00024\n",
      "[0.34035165 0.14586499 0.09724333 0.92381161] 0.31605 0.00059\n",
      "[0.315353   0.4730295  0.73582366 0.36791183] 0.29708 0.00033\n"
     ]
    }
   ],
   "source": [
    "x_test = np.random.randint(range_x[0], range_x[1], size=(20, sample_size))\n",
    "x_test = preprocessing.normalize(x_test)\n",
    "for x in x_test:\n",
    "    prediction = model.predict(np.array([x]).T)[0, 0]\n",
    "    print('{} {:.5f} {:.5f}'.format(x, prediction, mse1(prediction, x[0])))"
   ]
  },
  {
   "cell_type": "code",
   "execution_count": 58,
   "metadata": {},
   "outputs": [
    {
     "data": {
      "text/plain": [
       "[[0.12235 4.69458 0.08546 0.0818 ]] [[-2.4998]]"
      ]
     },
     "execution_count": 58,
     "metadata": {},
     "output_type": "execute_result"
    }
   ],
   "source": [
    "model"
   ]
  },
  {
   "cell_type": "code",
   "execution_count": null,
   "metadata": {},
   "outputs": [],
   "source": []
  }
 ],
 "metadata": {
  "kernelspec": {
   "display_name": "Python 3",
   "language": "python",
   "name": "python3"
  },
  "language_info": {
   "codemirror_mode": {
    "name": "ipython",
    "version": 3
   },
   "file_extension": ".py",
   "mimetype": "text/x-python",
   "name": "python",
   "nbconvert_exporter": "python",
   "pygments_lexer": "ipython3",
   "version": "3.6.8"
  }
 },
 "nbformat": 4,
 "nbformat_minor": 4
}
