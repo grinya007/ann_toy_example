{
 "cells": [
  {
   "cell_type": "code",
   "execution_count": 40,
   "metadata": {},
   "outputs": [],
   "source": [
    "import numpy as np\n",
    "from sklearn import preprocessing"
   ]
  },
  {
   "cell_type": "code",
   "execution_count": 76,
   "metadata": {},
   "outputs": [
    {
     "name": "stdout",
     "output_type": "stream",
     "text": [
      "[[0 0 0 0]\n",
      " [0 0 0 1]\n",
      " [0 1 1 1]\n",
      " [1 1 1 1]\n",
      " [0 0 1 0]\n",
      " [0 1 0 1]\n",
      " [0 0 0 1]\n",
      " [0 1 0 1]]\n",
      "[[False]\n",
      " [False]\n",
      " [ True]\n",
      " [False]\n",
      " [False]\n",
      " [ True]\n",
      " [False]\n",
      " [ True]]\n"
     ]
    }
   ],
   "source": [
    "set_size = 128\n",
    "sample_size = 4\n",
    "\n",
    "x_train = np.random.randint(2, size=(set_size, sample_size))\n",
    "y_train = np.logical_xor(x_train[:, 0:1], x_train[:, 1:2])\n",
    "\n",
    "print(x_train[:8])\n",
    "print(y_train[:8])"
   ]
  },
  {
   "cell_type": "code",
   "execution_count": 77,
   "metadata": {},
   "outputs": [
    {
     "data": {
      "text/plain": [
       "[[ 0.95718  0.49538 -0.56633 -0.23754]] [[-0.23787]]"
      ]
     },
     "execution_count": 77,
     "metadata": {},
     "output_type": "execute_result"
    }
   ],
   "source": [
    "def sigmoid(x):\n",
    "    return 1/(1 + np.exp(-x))\n",
    "\n",
    "def dsigmoid(x):\n",
    "    return sigmoid(x)*(1 - sigmoid(x))\n",
    "\n",
    "def mse1(y, truth):\n",
    "    return (y - truth)**2\n",
    "\n",
    "def dmse1(y, truth):\n",
    "    return 2*(y - truth)\n",
    "\n",
    "\n",
    "class Model():\n",
    "    def __init__(self, input_size):\n",
    "        self.input_size = input_size\n",
    "        self.W = np.random.randn(1, input_size)\n",
    "        self.b = np.random.randn(1, 1)\n",
    "\n",
    "    def __repr__(self):\n",
    "        return '{} {}'.format(\n",
    "            str(np.around(self.W, decimals = 5)),\n",
    "            str(np.around(self.b, decimals = 5))\n",
    "        )\n",
    "\n",
    "    def predict(self, x):\n",
    "        return sigmoid(np.dot(self.W, x) + self.b)\n",
    "\n",
    "    def fit(self, x_input, y_input, epochs=10, lr=1):\n",
    "        for e in range(epochs):\n",
    "            loss = []\n",
    "            for i in range(x_input.shape[0]):\n",
    "                inp = x_input[i].reshape(self.input_size, 1)\n",
    "                prediction = self.predict(inp)\n",
    "            \n",
    "                cost = mse1(prediction, y_input[i])\n",
    "                loss.append(cost)\n",
    "            \n",
    "                dcost = dmse1(prediction, y_input[i])\n",
    "                dprediction = dsigmoid(prediction)\n",
    "                dW = inp.T\n",
    "                self.W -= lr * dW * dprediction * dcost\n",
    "                self.b -= lr * dprediction * dcost\n",
    "            print('{}/{} Loss: {:.5f}'.format(e + 1, epochs, np.average(loss)))\n",
    "\n",
    "\n",
    "model = Model(input_size = sample_size)\n",
    "model"
   ]
  },
  {
   "cell_type": "code",
   "execution_count": 78,
   "metadata": {},
   "outputs": [
    {
     "name": "stdout",
     "output_type": "stream",
     "text": [
      "1/10 Loss: 0.30031\n",
      "2/10 Loss: 0.29804\n",
      "3/10 Loss: 0.29821\n",
      "4/10 Loss: 0.29823\n",
      "5/10 Loss: 0.29823\n",
      "6/10 Loss: 0.29823\n",
      "7/10 Loss: 0.29823\n",
      "8/10 Loss: 0.29823\n",
      "9/10 Loss: 0.29823\n",
      "10/10 Loss: 0.29823\n"
     ]
    }
   ],
   "source": [
    "model.fit(x_train, y_train, epochs=10)"
   ]
  },
  {
   "cell_type": "code",
   "execution_count": 79,
   "metadata": {},
   "outputs": [
    {
     "name": "stdout",
     "output_type": "stream",
     "text": [
      "[0 0 0 0] 0.25518 0.06512\n",
      "[0 0 0 0] 0.25518 0.06512\n",
      "[0 0 1 0] 0.24313 0.05911\n",
      "[1 0 0 0] 0.11648 0.78061\n",
      "[0 1 1 0] 0.25796 0.06654\n",
      "[1 0 0 0] 0.11648 0.78061\n",
      "[1 0 1 0] 0.11001 0.79208\n",
      "[0 1 0 0] 0.27049 0.07316\n",
      "[0 1 1 1] 0.23390 0.05471\n",
      "[1 0 1 0] 0.11001 0.79208\n"
     ]
    }
   ],
   "source": [
    "x_test = np.random.randint(2, size=(10, sample_size))\n",
    "for x in x_test:\n",
    "    prediction = model.predict(np.array([x]).T)[0, 0]\n",
    "    print('{} {:.5f} {:.5f}'.format(x, prediction, mse1(prediction, x[0])))"
   ]
  },
  {
   "cell_type": "code",
   "execution_count": 75,
   "metadata": {},
   "outputs": [
    {
     "data": {
      "text/plain": [
       "[[ 7.49682  7.41103 -0.43869 -0.1212 ]] [[-2.80687]]"
      ]
     },
     "execution_count": 75,
     "metadata": {},
     "output_type": "execute_result"
    }
   ],
   "source": [
    "model"
   ]
  },
  {
   "cell_type": "code",
   "execution_count": null,
   "metadata": {},
   "outputs": [],
   "source": []
  }
 ],
 "metadata": {
  "kernelspec": {
   "display_name": "Python 3",
   "language": "python",
   "name": "python3"
  },
  "language_info": {
   "codemirror_mode": {
    "name": "ipython",
    "version": 3
   },
   "file_extension": ".py",
   "mimetype": "text/x-python",
   "name": "python",
   "nbconvert_exporter": "python",
   "pygments_lexer": "ipython3",
   "version": "3.6.8"
  }
 },
 "nbformat": 4,
 "nbformat_minor": 4
}
