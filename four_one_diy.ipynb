{
 "cells": [
  {
   "cell_type": "code",
   "execution_count": 1,
   "metadata": {},
   "outputs": [],
   "source": [
    "import numpy as np"
   ]
  },
  {
   "cell_type": "code",
   "execution_count": 126,
   "metadata": {},
   "outputs": [
    {
     "name": "stdout",
     "output_type": "stream",
     "text": [
      "[[1 0 1 1]\n",
      " [0 0 1 1]\n",
      " [0 1 1 1]\n",
      " [1 1 0 0]\n",
      " [0 0 1 1]]\n",
      "[[False]\n",
      " [ True]\n",
      " [ True]\n",
      " [False]\n",
      " [ True]]\n"
     ]
    }
   ],
   "source": [
    "size = 128\n",
    "\n",
    "x_train = np.random.randint(2, size=(size, 4))\n",
    "#y_train = np.logical_or(x_train[:, :1], x_train[:, 3:4])\n",
    "y_train = np.logical_not(x_train[:, :1])\n",
    "\n",
    "print(x_train[:5])\n",
    "print(y_train[:5])"
   ]
  },
  {
   "cell_type": "code",
   "execution_count": 127,
   "metadata": {},
   "outputs": [
    {
     "data": {
      "text/plain": [
       "[[-0.09321 -0.0065  -0.17248  0.09445]] [[-0.03121]]"
      ]
     },
     "execution_count": 127,
     "metadata": {},
     "output_type": "execute_result"
    }
   ],
   "source": [
    "def sigmoid(x):\n",
    "    return 1/(1 + np.exp(-x))\n",
    "\n",
    "def dsigmoid(x):\n",
    "    return sigmoid(x)*(1 - sigmoid(x))\n",
    "\n",
    "def mse1(y, truth):\n",
    "    return (y - truth)**2\n",
    "\n",
    "def dmse1(y, truth):\n",
    "    return 2*(y - truth)\n",
    "\n",
    "\n",
    "class Model():\n",
    "    def __init__(self):\n",
    "        self.W = np.random.randn(1, 4) * 0.1\n",
    "        self.b = np.random.randn(1, 1) * 0.1\n",
    "\n",
    "    def __repr__(self):\n",
    "        return '{} {}'.format(\n",
    "            str(np.around(self.W, decimals = 5)),\n",
    "            str(np.around(self.b, decimals = 5))\n",
    "        )\n",
    "\n",
    "    def predict(self, x):\n",
    "        return sigmoid(np.dot(self.W, x) + self.b)\n",
    "\n",
    "    def fit(self, x_input, y_input, epochs=10, lr=1):\n",
    "        for e in range(epochs):\n",
    "            loss = []\n",
    "            for i in range(x_input.shape[0]):\n",
    "                inp = x_input[i].T\n",
    "                prediction = self.predict(inp)\n",
    "            \n",
    "                cost = mse1(prediction, y_input[i])\n",
    "                loss.append(cost)\n",
    "            \n",
    "                dcost = dmse1(prediction, y_input[i])\n",
    "                dprediction = dsigmoid(prediction)\n",
    "                dW = inp\n",
    "                self.W -= lr * dW * dprediction * dcost\n",
    "                self.b -= lr * dprediction * dcost\n",
    "            print('{}/{} Loss: {:.3f}'.format(e + 1, epochs, np.average(loss)))\n",
    "\n",
    "\n",
    "model = Model()\n",
    "model"
   ]
  },
  {
   "cell_type": "code",
   "execution_count": 128,
   "metadata": {},
   "outputs": [
    {
     "name": "stdout",
     "output_type": "stream",
     "text": [
      "1/5 Loss: 0.057\n",
      "2/5 Loss: 0.005\n",
      "3/5 Loss: 0.002\n",
      "4/5 Loss: 0.001\n",
      "5/5 Loss: 0.001\n"
     ]
    }
   ],
   "source": [
    "model.fit(x_train, y_train, epochs=5)"
   ]
  },
  {
   "cell_type": "code",
   "execution_count": 129,
   "metadata": {},
   "outputs": [
    {
     "name": "stdout",
     "output_type": "stream",
     "text": [
      "[0 0 1 0] 0.97772 0.95594\n",
      "[0 1 1 0] 0.97751 0.95552\n",
      "[0 1 0 0] 0.96145 0.92439\n",
      "[0 1 1 0] 0.97751 0.95552\n",
      "[0 0 1 0] 0.97772 0.95594\n",
      "[1 1 0 1] 0.01523 0.96977\n",
      "[1 0 0 1] 0.01538 0.96948\n",
      "[0 0 0 0] 0.96181 0.92508\n",
      "[1 1 0 1] 0.01523 0.96977\n",
      "[1 0 0 0] 0.00727 0.98550\n"
     ]
    }
   ],
   "source": [
    "x_test = np.random.randint(2, size=(10, 4))\n",
    "for x in x_test:\n",
    "    prediction = model.predict(np.array([x]).T)[0, 0]\n",
    "    print('{} {:.5f} {:.5f}'.format(x, prediction, mse1(prediction, x[0])))"
   ]
  },
  {
   "cell_type": "code",
   "execution_count": 130,
   "metadata": {},
   "outputs": [
    {
     "data": {
      "text/plain": [
       "[[-8.1424  -0.00983  0.55528  0.75684]] [[3.22633]]"
      ]
     },
     "execution_count": 130,
     "metadata": {},
     "output_type": "execute_result"
    }
   ],
   "source": [
    "model"
   ]
  },
  {
   "cell_type": "code",
   "execution_count": null,
   "metadata": {},
   "outputs": [],
   "source": []
  }
 ],
 "metadata": {
  "kernelspec": {
   "display_name": "Python 3",
   "language": "python",
   "name": "python3"
  },
  "language_info": {
   "codemirror_mode": {
    "name": "ipython",
    "version": 3
   },
   "file_extension": ".py",
   "mimetype": "text/x-python",
   "name": "python",
   "nbconvert_exporter": "python",
   "pygments_lexer": "ipython3",
   "version": "3.6.8"
  }
 },
 "nbformat": 4,
 "nbformat_minor": 4
}
