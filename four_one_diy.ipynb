{
 "cells": [
  {
   "cell_type": "code",
   "execution_count": 1,
   "metadata": {},
   "outputs": [],
   "source": [
    "import numpy as np"
   ]
  },
  {
   "cell_type": "code",
   "execution_count": 2,
   "metadata": {},
   "outputs": [
    {
     "name": "stdout",
     "output_type": "stream",
     "text": [
      "[[1 1 1 0]\n",
      " [1 0 0 0]\n",
      " [0 0 1 1]\n",
      " [1 1 0 1]\n",
      " [1 0 0 1]]\n",
      "[[1]\n",
      " [1]\n",
      " [0]\n",
      " [1]\n",
      " [1]]\n"
     ]
    }
   ],
   "source": [
    "set_size = 128\n",
    "sample_size = 4\n",
    "\n",
    "x_train = np.random.randint(2, size=(set_size, sample_size))\n",
    "y_train = x_train[:, :1]\n",
    "\n",
    "print(x_train[:5])\n",
    "print(y_train[:5])"
   ]
  },
  {
   "cell_type": "code",
   "execution_count": 3,
   "metadata": {},
   "outputs": [
    {
     "data": {
      "text/plain": [
       "[[-0.33607  1.10066  0.76713 -0.64875]] [[0.31805]]"
      ]
     },
     "execution_count": 3,
     "metadata": {},
     "output_type": "execute_result"
    }
   ],
   "source": [
    "def sigmoid(x):\n",
    "    return 1/(1 + np.exp(-x))\n",
    "\n",
    "def dsigmoid(x):\n",
    "    return sigmoid(x)*(1 - sigmoid(x))\n",
    "\n",
    "def mse1(y, truth):\n",
    "    return (y - truth)**2\n",
    "\n",
    "def dmse1(y, truth):\n",
    "    return 2*(y - truth)\n",
    "\n",
    "\n",
    "class Model():\n",
    "    def __init__(self, input_size):\n",
    "        self.input_size = input_size\n",
    "        self.W = np.random.randn(1, input_size)\n",
    "        self.b = np.random.randn(1, 1)\n",
    "\n",
    "    def __repr__(self):\n",
    "        return '{} {}'.format(\n",
    "            str(np.around(self.W, decimals = 5)),\n",
    "            str(np.around(self.b, decimals = 5))\n",
    "        )\n",
    "\n",
    "    def predict(self, x):\n",
    "        return sigmoid(np.dot(self.W, x) + self.b)\n",
    "\n",
    "    def fit(self, x_input, y_input, epochs=10, lr=1):\n",
    "        for e in range(epochs):\n",
    "            loss = []\n",
    "            for i in range(x_input.shape[0]):\n",
    "                inp = x_input[i].reshape(self.input_size, 1)\n",
    "                prediction = self.predict(inp)\n",
    "            \n",
    "                cost = mse1(prediction, y_input[i])\n",
    "                loss.append(cost)\n",
    "            \n",
    "                dcost = dmse1(prediction, y_input[i])\n",
    "                dprediction = dsigmoid(prediction)\n",
    "                dW = inp.T\n",
    "                self.W -= lr * dW * dprediction * dcost\n",
    "                self.b -= lr * dprediction * dcost\n",
    "            print('{}/{} Loss: {:.5f}'.format(e + 1, epochs, np.average(loss)))\n",
    "\n",
    "\n",
    "model = Model(input_size = sample_size)\n",
    "model"
   ]
  },
  {
   "cell_type": "code",
   "execution_count": 4,
   "metadata": {},
   "outputs": [
    {
     "name": "stdout",
     "output_type": "stream",
     "text": [
      "1/5 Loss: 0.07490\n",
      "2/5 Loss: 0.00454\n",
      "3/5 Loss: 0.00149\n",
      "4/5 Loss: 0.00074\n",
      "5/5 Loss: 0.00044\n"
     ]
    }
   ],
   "source": [
    "model.fit(x_train, y_train, epochs=5)"
   ]
  },
  {
   "cell_type": "code",
   "execution_count": 5,
   "metadata": {},
   "outputs": [
    {
     "name": "stdout",
     "output_type": "stream",
     "text": [
      "[1 0 1 1] 0.98684 0.00017\n",
      "[1 1 0 0] 0.98864 0.00013\n",
      "[1 1 0 0] 0.98864 0.00013\n",
      "[0 0 1 1] 0.02095 0.00044\n",
      "[1 0 1 1] 0.98684 0.00017\n",
      "[0 0 1 0] 0.03001 0.00090\n",
      "[0 1 1 1] 0.01555 0.00024\n",
      "[0 1 1 0] 0.02234 0.00050\n",
      "[0 1 0 0] 0.02424 0.00059\n",
      "[0 0 1 0] 0.03001 0.00090\n"
     ]
    }
   ],
   "source": [
    "x_test = np.random.randint(2, size=(10, sample_size))\n",
    "for x in x_test:\n",
    "    prediction = model.predict(np.array([x]).T)[0, 0]\n",
    "    print('{} {:.5f} {:.5f}'.format(x, prediction, mse1(prediction, x[0])))"
   ]
  },
  {
   "cell_type": "code",
   "execution_count": 6,
   "metadata": {},
   "outputs": [
    {
     "data": {
      "text/plain": [
       "[[ 8.16177 -0.30327 -0.08364 -0.36897]] [[-3.39196]]"
      ]
     },
     "execution_count": 6,
     "metadata": {},
     "output_type": "execute_result"
    }
   ],
   "source": [
    "model"
   ]
  },
  {
   "cell_type": "code",
   "execution_count": null,
   "metadata": {},
   "outputs": [],
   "source": []
  }
 ],
 "metadata": {
  "kernelspec": {
   "display_name": "Python 3",
   "language": "python",
   "name": "python3"
  },
  "language_info": {
   "codemirror_mode": {
    "name": "ipython",
    "version": 3
   },
   "file_extension": ".py",
   "mimetype": "text/x-python",
   "name": "python",
   "nbconvert_exporter": "python",
   "pygments_lexer": "ipython3",
   "version": "3.6.8"
  }
 },
 "nbformat": 4,
 "nbformat_minor": 4
}
