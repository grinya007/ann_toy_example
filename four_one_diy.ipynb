{
 "cells": [
  {
   "cell_type": "code",
   "execution_count": 80,
   "metadata": {},
   "outputs": [],
   "source": [
    "import numpy as np\n",
    "from sklearn import preprocessing"
   ]
  },
  {
   "cell_type": "code",
   "execution_count": 82,
   "metadata": {},
   "outputs": [
    {
     "name": "stdout",
     "output_type": "stream",
     "text": [
      "[[0 1 1 1]\n",
      " [0 0 1 0]\n",
      " [1 1 0 0]\n",
      " [0 1 0 1]\n",
      " [1 1 0 1]\n",
      " [0 0 1 0]\n",
      " [1 0 1 1]\n",
      " [0 0 1 1]]\n",
      "[[False]\n",
      " [False]\n",
      " [ True]\n",
      " [False]\n",
      " [ True]\n",
      " [False]\n",
      " [False]\n",
      " [False]]\n"
     ]
    }
   ],
   "source": [
    "set_size = 128\n",
    "sample_size = 4\n",
    "\n",
    "x_train = np.random.randint(2, size=(set_size, sample_size))\n",
    "y_train = np.logical_and(x_train[:, 0:1], x_train[:, 1:2])\n",
    "\n",
    "print(x_train[:8])\n",
    "print(y_train[:8])"
   ]
  },
  {
   "cell_type": "code",
   "execution_count": 83,
   "metadata": {},
   "outputs": [
    {
     "data": {
      "text/plain": [
       "[[-0.54626  0.05914 -2.50467 -0.50812]] [[0.55621]]"
      ]
     },
     "execution_count": 83,
     "metadata": {},
     "output_type": "execute_result"
    }
   ],
   "source": [
    "def sigmoid(x):\n",
    "    return 1/(1 + np.exp(-x))\n",
    "\n",
    "def dsigmoid(x):\n",
    "    return sigmoid(x)*(1 - sigmoid(x))\n",
    "\n",
    "def mse1(y, truth):\n",
    "    return (y - truth)**2\n",
    "\n",
    "def dmse1(y, truth):\n",
    "    return 2*(y - truth)\n",
    "\n",
    "\n",
    "class Model():\n",
    "    def __init__(self, input_size):\n",
    "        self.input_size = input_size\n",
    "        self.W = np.random.randn(1, input_size)\n",
    "        self.b = np.random.randn(1, 1)\n",
    "\n",
    "    def __repr__(self):\n",
    "        return '{} {}'.format(\n",
    "            str(np.around(self.W, decimals = 5)),\n",
    "            str(np.around(self.b, decimals = 5))\n",
    "        )\n",
    "\n",
    "    def predict(self, x):\n",
    "        return sigmoid(np.dot(self.W, x) + self.b)\n",
    "\n",
    "    def fit(self, x_input, y_input, epochs=10, lr=1):\n",
    "        for e in range(epochs):\n",
    "            loss = []\n",
    "            for i in range(x_input.shape[0]):\n",
    "                inp = x_input[i].reshape(self.input_size, 1)\n",
    "                prediction = self.predict(inp)\n",
    "            \n",
    "                cost = mse1(prediction, y_input[i])\n",
    "                loss.append(cost)\n",
    "            \n",
    "                dcost = dmse1(prediction, y_input[i])\n",
    "                dprediction = dsigmoid(prediction)\n",
    "                dW = inp.T\n",
    "                self.W -= lr * dW * dprediction * dcost\n",
    "                self.b -= lr * dprediction * dcost\n",
    "            print('{}/{} Loss: {:.5f}'.format(e + 1, epochs, np.average(loss)))\n",
    "\n",
    "\n",
    "model = Model(input_size = sample_size)\n",
    "model"
   ]
  },
  {
   "cell_type": "code",
   "execution_count": 84,
   "metadata": {},
   "outputs": [
    {
     "name": "stdout",
     "output_type": "stream",
     "text": [
      "1/10 Loss: 0.15009\n",
      "2/10 Loss: 0.03851\n",
      "3/10 Loss: 0.01700\n",
      "4/10 Loss: 0.00945\n",
      "5/10 Loss: 0.00598\n",
      "6/10 Loss: 0.00411\n",
      "7/10 Loss: 0.00300\n",
      "8/10 Loss: 0.00228\n",
      "9/10 Loss: 0.00179\n",
      "10/10 Loss: 0.00145\n"
     ]
    }
   ],
   "source": [
    "model.fit(x_train, y_train, epochs=10)"
   ]
  },
  {
   "cell_type": "code",
   "execution_count": 85,
   "metadata": {},
   "outputs": [
    {
     "name": "stdout",
     "output_type": "stream",
     "text": [
      "[0 1 0 1] 0.02320 0.00054\n",
      "[0 1 1 0] 0.04480 0.00201\n",
      "[1 0 0 1] 0.01996 0.96048\n",
      "[1 1 0 0] 0.95850 0.00172\n",
      "[1 1 1 0] 0.95974 0.00162\n",
      "[1 1 0 0] 0.95850 0.00172\n",
      "[1 0 1 0] 0.03866 0.92417\n",
      "[0 0 0 1] 0.00004 0.00000\n",
      "[1 0 1 1] 0.02059 0.95925\n",
      "[0 0 1 0] 0.00008 0.00000\n"
     ]
    }
   ],
   "source": [
    "x_test = np.random.randint(2, size=(10, sample_size))\n",
    "for x in x_test:\n",
    "    prediction = model.predict(np.array([x]).T)[0, 0]\n",
    "    print('{} {:.5f} {:.5f}'.format(x, prediction, mse1(prediction, x[0])))"
   ]
  },
  {
   "cell_type": "code",
   "execution_count": 86,
   "metadata": {},
   "outputs": [
    {
     "data": {
      "text/plain": [
       "[[ 6.23093  6.3847   0.03155 -0.64892]] [[-9.47594]]"
      ]
     },
     "execution_count": 86,
     "metadata": {},
     "output_type": "execute_result"
    }
   ],
   "source": [
    "model"
   ]
  },
  {
   "cell_type": "code",
   "execution_count": null,
   "metadata": {},
   "outputs": [],
   "source": []
  }
 ],
 "metadata": {
  "kernelspec": {
   "display_name": "Python 3",
   "language": "python",
   "name": "python3"
  },
  "language_info": {
   "codemirror_mode": {
    "name": "ipython",
    "version": 3
   },
   "file_extension": ".py",
   "mimetype": "text/x-python",
   "name": "python",
   "nbconvert_exporter": "python",
   "pygments_lexer": "ipython3",
   "version": "3.6.8"
  }
 },
 "nbformat": 4,
 "nbformat_minor": 4
}
